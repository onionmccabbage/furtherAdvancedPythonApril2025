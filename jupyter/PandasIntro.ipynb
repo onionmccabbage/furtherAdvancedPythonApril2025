{
 "cells": [
  {
   "cell_type": "markdown",
   "id": "88a7977d-cbda-4877-b868-72f6f31f149a",
   "metadata": {},
   "source": [
    "## Introducing Pandas\n",
    "Pandas is for Python numerical data analysis"
   ]
  },
  {
   "cell_type": "code",
   "execution_count": 193,
   "id": "d9002021-3e63-4a8e-9d31-26b975401ce6",
   "metadata": {},
   "outputs": [],
   "source": [
    "import numpy as np\n",
    "import pandas as pd"
   ]
  },
  {
   "cell_type": "code",
   "execution_count": 194,
   "id": "0f8d12e4-fe56-4be0-a1fb-cdb0d40556c6",
   "metadata": {},
   "outputs": [
    {
     "data": {
      "text/plain": [
       "RangeIndex(start=0, stop=5, step=1)"
      ]
     },
     "execution_count": 194,
     "metadata": {},
     "output_type": "execute_result"
    }
   ],
   "source": [
    "# pandas provides additional data structures\n",
    "# a pandas series is a mutable collection of one data type\n",
    "l = [9.0, 7, -5.0, 3, 99]\n",
    "p = pd.Series(l)\n",
    "p.values # this is a numpy array\n",
    "p.index"
   ]
  },
  {
   "cell_type": "code",
   "execution_count": 195,
   "id": "fe5f1543-7ecc-4fe4-949f-11937ff39c4f",
   "metadata": {},
   "outputs": [
    {
     "data": {
      "text/plain": [
       "b     7.0\n",
       "a    -5.0\n",
       "c     3.0\n",
       "d    99.0\n",
       "dtype: float64"
      ]
     },
     "execution_count": 195,
     "metadata": {},
     "output_type": "execute_result"
    }
   ],
   "source": [
    "# we may customize the index\n",
    "ind = ('c', 'b', 'a', 'c', 'd') # often an index is strings, but it may be any data type\n",
    "s = pd.Series(l, index=ind )\n",
    "s.dtype\n",
    "s['b':'d'] # slicing in Pandas is inclusive: here from b to c inclusive"
   ]
  },
  {
   "cell_type": "code",
   "execution_count": 196,
   "id": "b28d203b-8a62-484f-a544-be71756c8bfd",
   "metadata": {},
   "outputs": [
    {
     "data": {
      "text/plain": [
       "c    9.0\n",
       "c    3.0\n",
       "dtype: float64"
      ]
     },
     "execution_count": 196,
     "metadata": {},
     "output_type": "execute_result"
    }
   ],
   "source": [
    "s['c'] # find all matching values for index 'c'"
   ]
  },
  {
   "cell_type": "code",
   "execution_count": 197,
   "id": "0ba6d02b-e194-4271-8b65-7adf11e4ea88",
   "metadata": {},
   "outputs": [
    {
     "data": {
      "text/plain": [
       "c     9.0\n",
       "b     7.0\n",
       "a    -5.0\n",
       "c     3.0\n",
       "d    99.0\n",
       "dtype: float64"
      ]
     },
     "execution_count": 197,
     "metadata": {},
     "output_type": "execute_result"
    }
   ],
   "source": [
    "# we may find matching members within a Series\n",
    "s[s>2]\n",
    "t = s**2 # we may apply operations across every members of the Series\n",
    "s # NB operations do not mutate the original structure"
   ]
  },
  {
   "cell_type": "code",
   "execution_count": 198,
   "id": "080ebc26-c3d2-4729-a5ce-d0f732b80abd",
   "metadata": {},
   "outputs": [
    {
     "data": {
      "text/plain": [
       "29.5"
      ]
     },
     "execution_count": 198,
     "metadata": {},
     "output_type": "execute_result"
    }
   ],
   "source": [
    "# NaN is not a number - a numeric data type representing the absence of a number\n",
    "s['a'] = np.nan\n",
    "s**2 # operates on all calues except NaN\n",
    "s.count() # counts all values that are not NaN\n",
    "s.mean()"
   ]
  },
  {
   "cell_type": "markdown",
   "id": "634bd451-2554-4ac7-8694-2991c5390f53",
   "metadata": {},
   "source": [
    "### Indexing and Ordinality"
   ]
  },
  {
   "cell_type": "code",
   "execution_count": 200,
   "id": "021dff06-4a77-4868-bb0f-4a733626afbd",
   "metadata": {},
   "outputs": [
    {
     "data": {
      "text/plain": [
       "3.0"
      ]
     },
     "execution_count": 200,
     "metadata": {},
     "output_type": "execute_result"
    }
   ],
   "source": [
    "s.index\n",
    "s.iloc[3] # iloc uses the underlying ordinal sequence of data members"
   ]
  },
  {
   "cell_type": "code",
   "execution_count": 201,
   "id": "ece033a5-a95e-4618-95e5-15e0715293cd",
   "metadata": {},
   "outputs": [
    {
     "data": {
      "text/plain": [
       "b     7.0\n",
       "a     NaN\n",
       "c     3.0\n",
       "d    99.0\n",
       "g    99.0\n",
       "dtype: float64"
      ]
     },
     "execution_count": 201,
     "metadata": {},
     "output_type": "execute_result"
    }
   ],
   "source": [
    "s['g'] = 99\n",
    "s['b':'g']"
   ]
  },
  {
   "cell_type": "markdown",
   "id": "59c724cf-9e75-46f8-99f4-5354e4260285",
   "metadata": {},
   "source": [
    "### Pandas DataFrame"
   ]
  },
  {
   "cell_type": "code",
   "execution_count": 203,
   "id": "c7a47858-46ee-4b99-9883-74cf40a43116",
   "metadata": {},
   "outputs": [
    {
     "data": {
      "text/plain": [
       "Athlone     5000.0\n",
       "Dublin     71000.0\n",
       "Shannon        NaN\n",
       "Galway     16000.0\n",
       "Cork       35000.0\n",
       "dtype: float64"
      ]
     },
     "execution_count": 203,
     "metadata": {},
     "output_type": "execute_result"
    }
   ],
   "source": [
    "# here is some data\n",
    "sdata = {'Cork':35000, 'Dublin':71000, 'Galway':16000, 'Athlone':5000, 'Genoa':500}# dict\n",
    "idata = {'Cork', 'Dublin', 'Shannon', 'Galway', 'Athlone'} # set\n",
    "p = pd.Series(sdata, index=idata)\n",
    "p # any missing members are assigned NaN"
   ]
  },
  {
   "cell_type": "code",
   "execution_count": 204,
   "id": "b632e598-171a-4c53-ab0d-e0c65995ed64",
   "metadata": {},
   "outputs": [
    {
     "data": {
      "text/plain": [
       "Athlone     5000.0\n",
       "Dublin     71000.0\n",
       "Shannon    32345.0\n",
       "Galway     16000.0\n",
       "Cork       35000.0\n",
       "dtype: float64"
      ]
     },
     "execution_count": 204,
     "metadata": {},
     "output_type": "execute_result"
    }
   ],
   "source": [
    "p['Cork']\n",
    "p['Shannon'] = 32345 # this member is added where the index already exists\n",
    "p"
   ]
  },
  {
   "cell_type": "code",
   "execution_count": 205,
   "id": "5f55171a-089a-4e3d-b185-b4e1a6f8148f",
   "metadata": {},
   "outputs": [
    {
     "data": {
      "text/html": [
       "<div>\n",
       "<style scoped>\n",
       "    .dataframe tbody tr th:only-of-type {\n",
       "        vertical-align: middle;\n",
       "    }\n",
       "\n",
       "    .dataframe tbody tr th {\n",
       "        vertical-align: top;\n",
       "    }\n",
       "\n",
       "    .dataframe thead th {\n",
       "        text-align: right;\n",
       "    }\n",
       "</style>\n",
       "<table border=\"1\" class=\"dataframe\">\n",
       "  <thead>\n",
       "    <tr style=\"text-align: right;\">\n",
       "      <th></th>\n",
       "      <th>Towns</th>\n",
       "      <th>Years</th>\n",
       "      <th>Pop</th>\n",
       "    </tr>\n",
       "  </thead>\n",
       "  <tbody>\n",
       "    <tr>\n",
       "      <th>Cork</th>\n",
       "      <td>Cork</td>\n",
       "      <td>2017</td>\n",
       "      <td>1.5</td>\n",
       "    </tr>\n",
       "    <tr>\n",
       "      <th>Dublin</th>\n",
       "      <td>Dublin</td>\n",
       "      <td>2018</td>\n",
       "      <td>1.7</td>\n",
       "    </tr>\n",
       "    <tr>\n",
       "      <th>Galway</th>\n",
       "      <td>Galway</td>\n",
       "      <td>2019</td>\n",
       "      <td>3.6</td>\n",
       "    </tr>\n",
       "    <tr>\n",
       "      <th>Athlone</th>\n",
       "      <td>Athlone</td>\n",
       "      <td>2020</td>\n",
       "      <td>2.4</td>\n",
       "    </tr>\n",
       "    <tr>\n",
       "      <th>Shannon</th>\n",
       "      <td>Shannon</td>\n",
       "      <td>2021</td>\n",
       "      <td>2.9</td>\n",
       "    </tr>\n",
       "    <tr>\n",
       "      <th>Rosscarbery</th>\n",
       "      <td>Rosscarbery</td>\n",
       "      <td>2022</td>\n",
       "      <td>3.2</td>\n",
       "    </tr>\n",
       "    <tr>\n",
       "      <th>Athenry</th>\n",
       "      <td>Athenry</td>\n",
       "      <td>2023</td>\n",
       "      <td>1.7</td>\n",
       "    </tr>\n",
       "  </tbody>\n",
       "</table>\n",
       "</div>"
      ],
      "text/plain": [
       "                   Towns  Years  Pop\n",
       "Cork                Cork   2017  1.5\n",
       "Dublin            Dublin   2018  1.7\n",
       "Galway            Galway   2019  3.6\n",
       "Athlone          Athlone   2020  2.4\n",
       "Shannon          Shannon   2021  2.9\n",
       "Rosscarbery  Rosscarbery   2022  3.2\n",
       "Athenry          Athenry   2023  1.7"
      ]
     },
     "execution_count": 205,
     "metadata": {},
     "output_type": "execute_result"
    }
   ],
   "source": [
    "# The DataFrame structure is like a spreadsheet\n",
    "# Each column is a Series, must contain the same data type\n",
    "# columns may differ in thier data type\n",
    "towns_l = ['Cork', 'Dublin', 'Galway', 'Athlone', 'Shannon', 'Rosscarbery', 'Athenry']\n",
    "years_l = [2017, 2018, 2019, 2020, 2021, 2022, 2023]\n",
    "pop_l   = [1.5, 1.7, 3.6, 2.4, 2.9, 3.2, 1.7]\n",
    "data_d = {'Towns':towns_l, 'Years':years_l, 'Pop':pop_l}\n",
    "df = pd.DataFrame(data_d, index=towns_l)\n",
    "df.dtypes # each column is a Series object - a single data type\n",
    "df"
   ]
  },
  {
   "cell_type": "code",
   "execution_count": 206,
   "id": "80f896fd-a72a-46b6-809b-23bd89b26544",
   "metadata": {},
   "outputs": [
    {
     "data": {
      "text/html": [
       "<div>\n",
       "<style scoped>\n",
       "    .dataframe tbody tr th:only-of-type {\n",
       "        vertical-align: middle;\n",
       "    }\n",
       "\n",
       "    .dataframe tbody tr th {\n",
       "        vertical-align: top;\n",
       "    }\n",
       "\n",
       "    .dataframe thead th {\n",
       "        text-align: right;\n",
       "    }\n",
       "</style>\n",
       "<table border=\"1\" class=\"dataframe\">\n",
       "  <thead>\n",
       "    <tr style=\"text-align: right;\">\n",
       "      <th></th>\n",
       "      <th>Years</th>\n",
       "      <th>Pop</th>\n",
       "    </tr>\n",
       "  </thead>\n",
       "  <tbody>\n",
       "    <tr>\n",
       "      <th>Cork</th>\n",
       "      <td>2017</td>\n",
       "      <td>1.5</td>\n",
       "    </tr>\n",
       "    <tr>\n",
       "      <th>Dublin</th>\n",
       "      <td>2018</td>\n",
       "      <td>1.7</td>\n",
       "    </tr>\n",
       "    <tr>\n",
       "      <th>Galway</th>\n",
       "      <td>2019</td>\n",
       "      <td>3.6</td>\n",
       "    </tr>\n",
       "    <tr>\n",
       "      <th>Athlone</th>\n",
       "      <td>2020</td>\n",
       "      <td>2.4</td>\n",
       "    </tr>\n",
       "    <tr>\n",
       "      <th>Shannon</th>\n",
       "      <td>2021</td>\n",
       "      <td>2.9</td>\n",
       "    </tr>\n",
       "    <tr>\n",
       "      <th>Rosscarbery</th>\n",
       "      <td>2022</td>\n",
       "      <td>3.2</td>\n",
       "    </tr>\n",
       "    <tr>\n",
       "      <th>Athenry</th>\n",
       "      <td>2023</td>\n",
       "      <td>1.7</td>\n",
       "    </tr>\n",
       "  </tbody>\n",
       "</table>\n",
       "</div>"
      ],
      "text/plain": [
       "             Years  Pop\n",
       "Cork          2017  1.5\n",
       "Dublin        2018  1.7\n",
       "Galway        2019  3.6\n",
       "Athlone       2020  2.4\n",
       "Shannon       2021  2.9\n",
       "Rosscarbery   2022  3.2\n",
       "Athenry       2023  1.7"
      ]
     },
     "execution_count": 206,
     "metadata": {},
     "output_type": "execute_result"
    }
   ],
   "source": [
    "# working with DataFrame structures\n",
    "# Careful - remember double square brackets\n",
    "df[['Years','Pop']] # a list in a slice, in any order"
   ]
  },
  {
   "cell_type": "code",
   "execution_count": 207,
   "id": "6dfc466b-6610-4611-b8d1-9500716889e0",
   "metadata": {},
   "outputs": [
    {
     "data": {
      "text/html": [
       "<div>\n",
       "<style scoped>\n",
       "    .dataframe tbody tr th:only-of-type {\n",
       "        vertical-align: middle;\n",
       "    }\n",
       "\n",
       "    .dataframe tbody tr th {\n",
       "        vertical-align: top;\n",
       "    }\n",
       "\n",
       "    .dataframe thead th {\n",
       "        text-align: right;\n",
       "    }\n",
       "</style>\n",
       "<table border=\"1\" class=\"dataframe\">\n",
       "  <thead>\n",
       "    <tr style=\"text-align: right;\">\n",
       "      <th></th>\n",
       "      <th>Towns</th>\n",
       "      <th>Years</th>\n",
       "      <th>Pop</th>\n",
       "    </tr>\n",
       "  </thead>\n",
       "  <tbody>\n",
       "    <tr>\n",
       "      <th>Rosscarbery</th>\n",
       "      <td>Rosscarbery</td>\n",
       "      <td>2022</td>\n",
       "      <td>3.2</td>\n",
       "    </tr>\n",
       "    <tr>\n",
       "      <th>Athenry</th>\n",
       "      <td>Athenry</td>\n",
       "      <td>2023</td>\n",
       "      <td>1.7</td>\n",
       "    </tr>\n",
       "  </tbody>\n",
       "</table>\n",
       "</div>"
      ],
      "text/plain": [
       "                   Towns  Years  Pop\n",
       "Rosscarbery  Rosscarbery   2022  3.2\n",
       "Athenry          Athenry   2023  1.7"
      ]
     },
     "execution_count": 207,
     "metadata": {},
     "output_type": "execute_result"
    }
   ],
   "source": [
    "df.head(3)\n",
    "df.tail(2)"
   ]
  },
  {
   "cell_type": "code",
   "execution_count": 208,
   "id": "d0f2cd35-d86e-416a-9bb1-7d5cd46ebe89",
   "metadata": {},
   "outputs": [
    {
     "data": {
      "text/plain": [
       "Towns    Athlone\n",
       "Years       2020\n",
       "Pop          2.4\n",
       "Name: four, dtype: object"
      ]
     },
     "execution_count": 208,
     "metadata": {},
     "output_type": "execute_result"
    }
   ],
   "source": [
    "# we may need to re-index our data\n",
    "df.index = ('one', 'two', 'three', 'four', 'five', 'six', 'seven')\n",
    "df.loc['three'] # we use 'loc' to locate an index member - this is a Series\n",
    "df.iloc[3] # we can still use the underlying ordinality with 'iloc'"
   ]
  },
  {
   "cell_type": "code",
   "execution_count": 209,
   "id": "44890269-7ad5-4edc-8070-0f38ed88192f",
   "metadata": {},
   "outputs": [
    {
     "data": {
      "text/html": [
       "<div>\n",
       "<style scoped>\n",
       "    .dataframe tbody tr th:only-of-type {\n",
       "        vertical-align: middle;\n",
       "    }\n",
       "\n",
       "    .dataframe tbody tr th {\n",
       "        vertical-align: top;\n",
       "    }\n",
       "\n",
       "    .dataframe thead th {\n",
       "        text-align: right;\n",
       "    }\n",
       "</style>\n",
       "<table border=\"1\" class=\"dataframe\">\n",
       "  <thead>\n",
       "    <tr style=\"text-align: right;\">\n",
       "      <th></th>\n",
       "      <th>Towns</th>\n",
       "      <th>Pop</th>\n",
       "    </tr>\n",
       "  </thead>\n",
       "  <tbody>\n",
       "    <tr>\n",
       "      <th>one</th>\n",
       "      <td>Cork</td>\n",
       "      <td>1.5</td>\n",
       "    </tr>\n",
       "    <tr>\n",
       "      <th>two</th>\n",
       "      <td>Dublin</td>\n",
       "      <td>1.7</td>\n",
       "    </tr>\n",
       "    <tr>\n",
       "      <th>three</th>\n",
       "      <td>Galway</td>\n",
       "      <td>3.6</td>\n",
       "    </tr>\n",
       "    <tr>\n",
       "      <th>four</th>\n",
       "      <td>Athlone</td>\n",
       "      <td>2.4</td>\n",
       "    </tr>\n",
       "    <tr>\n",
       "      <th>five</th>\n",
       "      <td>Shannon</td>\n",
       "      <td>2.9</td>\n",
       "    </tr>\n",
       "    <tr>\n",
       "      <th>six</th>\n",
       "      <td>Rosscarbery</td>\n",
       "      <td>3.2</td>\n",
       "    </tr>\n",
       "    <tr>\n",
       "      <th>seven</th>\n",
       "      <td>Athenry</td>\n",
       "      <td>1.7</td>\n",
       "    </tr>\n",
       "  </tbody>\n",
       "</table>\n",
       "</div>"
      ],
      "text/plain": [
       "             Towns  Pop\n",
       "one           Cork  1.5\n",
       "two         Dublin  1.7\n",
       "three       Galway  3.6\n",
       "four       Athlone  2.4\n",
       "five       Shannon  2.9\n",
       "six    Rosscarbery  3.2\n",
       "seven      Athenry  1.7"
      ]
     },
     "execution_count": 209,
     "metadata": {},
     "output_type": "execute_result"
    }
   ],
   "source": [
    "# we may create new DataFrames from existing data\n",
    "df2 = df[['Towns', 'Pop']] #remember [[]]\n",
    "df2"
   ]
  },
  {
   "cell_type": "code",
   "execution_count": 210,
   "id": "03a5dbe9-55d8-49e8-b00b-ea8cc4de22c3",
   "metadata": {},
   "outputs": [
    {
     "data": {
      "text/plain": [
       "3"
      ]
     },
     "execution_count": 210,
     "metadata": {},
     "output_type": "execute_result"
    }
   ],
   "source": [
    "# we may add new columns to a DataFrame\n",
    "df2['Tour'] = np.arange(7)\n",
    "df2.loc['three']['Tour']\n",
    "df2.iloc[3]['Tour']"
   ]
  },
  {
   "cell_type": "code",
   "execution_count": 229,
   "id": "67fb1d10-17d0-4be9-b235-4aec6620b9b8",
   "metadata": {},
   "outputs": [
    {
     "data": {
      "text/html": [
       "<div>\n",
       "<style scoped>\n",
       "    .dataframe tbody tr th:only-of-type {\n",
       "        vertical-align: middle;\n",
       "    }\n",
       "\n",
       "    .dataframe tbody tr th {\n",
       "        vertical-align: top;\n",
       "    }\n",
       "\n",
       "    .dataframe thead th {\n",
       "        text-align: right;\n",
       "    }\n",
       "</style>\n",
       "<table border=\"1\" class=\"dataframe\">\n",
       "  <thead>\n",
       "    <tr style=\"text-align: right;\">\n",
       "      <th></th>\n",
       "      <th>Towns</th>\n",
       "      <th>Years</th>\n",
       "      <th>Pop</th>\n",
       "    </tr>\n",
       "  </thead>\n",
       "  <tbody>\n",
       "    <tr>\n",
       "      <th>one</th>\n",
       "      <td>Cork</td>\n",
       "      <td>2017</td>\n",
       "      <td>1.5</td>\n",
       "    </tr>\n",
       "    <tr>\n",
       "      <th>two</th>\n",
       "      <td>Dublin</td>\n",
       "      <td>2018</td>\n",
       "      <td>1.7</td>\n",
       "    </tr>\n",
       "    <tr>\n",
       "      <th>three</th>\n",
       "      <td>Galway</td>\n",
       "      <td>2019</td>\n",
       "      <td>3.6</td>\n",
       "    </tr>\n",
       "    <tr>\n",
       "      <th>four</th>\n",
       "      <td>Athlone</td>\n",
       "      <td>2020</td>\n",
       "      <td>2.4</td>\n",
       "    </tr>\n",
       "    <tr>\n",
       "      <th>five</th>\n",
       "      <td>Shannon</td>\n",
       "      <td>2021</td>\n",
       "      <td>2.9</td>\n",
       "    </tr>\n",
       "    <tr>\n",
       "      <th>six</th>\n",
       "      <td>Rosscarbery</td>\n",
       "      <td>2022</td>\n",
       "      <td>NaN</td>\n",
       "    </tr>\n",
       "    <tr>\n",
       "      <th>seven</th>\n",
       "      <td>Athenry</td>\n",
       "      <td>2023</td>\n",
       "      <td>1.7</td>\n",
       "    </tr>\n",
       "  </tbody>\n",
       "</table>\n",
       "</div>"
      ],
      "text/plain": [
       "             Towns  Years  Pop\n",
       "one           Cork   2017  1.5\n",
       "two         Dublin   2018  1.7\n",
       "three       Galway   2019  3.6\n",
       "four       Athlone   2020  2.4\n",
       "five       Shannon   2021  2.9\n",
       "six    Rosscarbery   2022  NaN\n",
       "seven      Athenry   2023  1.7"
      ]
     },
     "execution_count": 229,
     "metadata": {},
     "output_type": "execute_result"
    }
   ],
   "source": [
    "# Use `df.loc[row_indexer, \"col\"] = values` to mutate individual members\n",
    "df.loc['six', 'Pop'] = np.nan\n",
    "df"
   ]
  },
  {
   "cell_type": "code",
   "execution_count": null,
   "id": "f8cf8ef3-6331-43f2-8958-e7ae52d23cfa",
   "metadata": {},
   "outputs": [],
   "source": []
  }
 ],
 "metadata": {
  "kernelspec": {
   "display_name": "Python 3 (ipykernel)",
   "language": "python",
   "name": "python3"
  },
  "language_info": {
   "codemirror_mode": {
    "name": "ipython",
    "version": 3
   },
   "file_extension": ".py",
   "mimetype": "text/x-python",
   "name": "python",
   "nbconvert_exporter": "python",
   "pygments_lexer": "ipython3",
   "version": "3.12.4"
  }
 },
 "nbformat": 4,
 "nbformat_minor": 5
}
